{
  "nbformat": 4,
  "nbformat_minor": 0,
  "metadata": {
    "colab": {
      "name": "Untitled11.ipynb",
      "provenance": [],
      "authorship_tag": "ABX9TyOA/Q80ds0PAXj6EamJ/muT",
      "include_colab_link": true
    },
    "kernelspec": {
      "name": "python3",
      "display_name": "Python 3"
    }
  },
  "cells": [
    {
      "cell_type": "markdown",
      "metadata": {
        "id": "view-in-github",
        "colab_type": "text"
      },
      "source": [
        "<a href=\"https://colab.research.google.com/github/Weikang01/Intro-To-Linear-Algebra-MAT1341/blob/master/01_basic_realization_of_complex_numbers.ipynb\" target=\"_parent\"><img src=\"https://colab.research.google.com/assets/colab-badge.svg\" alt=\"Open In Colab\"/></a>"
      ]
    },
    {
      "cell_type": "code",
      "metadata": {
        "id": "3xVxGLdOvAYM",
        "colab_type": "code",
        "colab": {}
      },
      "source": [
        "import math\n",
        "\n",
        "\n",
        "class complex:\n",
        "    def __init__(self, r, i):\n",
        "        self.r = r\n",
        "        self.i = i\n",
        "        self.modulus = math.sqrt(self.r * self.r + self.i * self.i)\n",
        "\n",
        "    @property\n",
        "    def real(self):\n",
        "        return self.r\n",
        "\n",
        "    @real.setter\n",
        "    def real(self, value):\n",
        "        self.r = value\n",
        "\n",
        "    @real.deleter\n",
        "    def real(self):\n",
        "        self.r = 0\n",
        "\n",
        "    @property\n",
        "    def imag(self):\n",
        "        return self.i\n",
        "\n",
        "    @imag.setter\n",
        "    def imag(self, value):\n",
        "        self.i = value\n",
        "\n",
        "    @imag.deleter\n",
        "    def imag(self):\n",
        "        self.i = 0\n",
        "\n",
        "    def recip(self):\n",
        "        base = self.r * self.r + self.i * self.i\n",
        "        return complex(self.r / base, -self.i / base)\n",
        "\n",
        "    def __str__(self):\n",
        "        plus = image = real = ''\n",
        "        num = 2\n",
        "        if self.r:\n",
        "            real = str(self.r)\n",
        "            num -= 1\n",
        "        if self.i:\n",
        "            image = str(self.i) + 'i'\n",
        "            num -= 1\n",
        "        if self.i > 0:\n",
        "            plus = '+'\n",
        "        return f'{real}{plus}{image}'\n",
        "\n",
        "    def __repr__(self):\n",
        "        return self.__str__()\n",
        "\n",
        "    def __eq__(self, other):\n",
        "        return self.r == other.i and self.i == other.i\n",
        "\n",
        "    def __ne__(self, other):\n",
        "        return self.r != other.i or self.i != other.i\n",
        "\n",
        "    def __add__(self, other):\n",
        "        if type(other) != complex:\n",
        "            return complex(self.r + other, self.i)\n",
        "        return complex(self.r + other.r, self.i + other.i)\n",
        "\n",
        "    def __mul__(self, other):\n",
        "        return complex(self.r * other.r - self.i * other.i, self.r * other.i + self.i * other.r)\n",
        "\n",
        "    def __abs__(self):\n",
        "        return self.modulus\n",
        "\n",
        "    def __neg__(self):\n",
        "        return complex(-self.r, -self.i)\n",
        "\n",
        "    def __round__(self, n=None):\n",
        "        return complex(round(self.r, n), round(self.i, n))\n",
        "\n",
        "    def __hash__(self):\n",
        "        if not self.i:\n",
        "            return self.r\n",
        "        return self.r + self.i + hash('i')"
      ],
      "execution_count": 1,
      "outputs": []
    },
    {
      "cell_type": "code",
      "metadata": {
        "id": "gJLicK27BWGJ",
        "colab_type": "code",
        "colab": {
          "base_uri": "https://localhost:8080/",
          "height": 101
        },
        "outputId": "a6c956e9-f5cb-4c5a-a22f-2a671ea83290"
      },
      "source": [
        "print(hash(complex(3, -1)))\n",
        "print(complex(3, -1) + True)\n",
        "\n",
        "print(complex(3, -1) * complex(2, -2))\n",
        "print(round(complex(3, -1).recip() * complex(3, -1)))\n",
        "print(abs(complex(3, 1)))"
      ],
      "execution_count": 2,
      "outputs": [
        {
          "output_type": "stream",
          "text": [
            "8263682245586608332\n",
            "4-1i\n",
            "4-8i\n",
            "1\n",
            "3.1622776601683795\n"
          ],
          "name": "stdout"
        }
      ]
    }
  ]
}